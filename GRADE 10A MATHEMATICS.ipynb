{
 "cells": [
  {
   "cell_type": "code",
   "execution_count": 1,
   "metadata": {},
   "outputs": [],
   "source": [
    "import os\n",
    "import numpy as np\n",
    "import pandas as pd\n",
    "import matplotlib.pyplot as plt"
   ]
  },
  {
   "cell_type": "code",
   "execution_count": 2,
   "metadata": {},
   "outputs": [
    {
     "data": {
      "text/plain": [
       "'C:\\\\Users\\\\user\\\\Desktop\\\\data science'"
      ]
     },
     "execution_count": 2,
     "metadata": {},
     "output_type": "execute_result"
    }
   ],
   "source": [
    "os.getcwd()"
   ]
  },
  {
   "cell_type": "code",
   "execution_count": 115,
   "metadata": {},
   "outputs": [],
   "source": [
    "os.chdir('C:\\\\Users\\\\user\\\\Desktop\\\\data science\\\\data')"
   ]
  },
  {
   "cell_type": "code",
   "execution_count": 117,
   "metadata": {},
   "outputs": [],
   "source": [
    "#  pd.read_excel\n",
    "t4 = pd.read_excel(\"term 4.xlsx\")"
   ]
  },
  {
   "cell_type": "code",
   "execution_count": 118,
   "metadata": {},
   "outputs": [
    {
     "data": {
      "text/plain": [
       "'C:\\\\Users\\\\user\\\\Desktop\\\\data science\\\\data'"
      ]
     },
     "execution_count": 118,
     "metadata": {},
     "output_type": "execute_result"
    }
   ],
   "source": [
    "exported=os.getcwd()\n",
    "\n",
    "exported"
   ]
  },
  {
   "cell_type": "code",
   "execution_count": 119,
   "metadata": {},
   "outputs": [],
   "source": [
    "t4.Avg = ((t4.Test + t4.p1 + t4.p2)/250 )*100\n",
    "\n",
    "# t4.Avg[:]"
   ]
  },
  {
   "cell_type": "code",
   "execution_count": 120,
   "metadata": {},
   "outputs": [
    {
     "data": {
      "text/html": [
       "<div>\n",
       "<style scoped>\n",
       "    .dataframe tbody tr th:only-of-type {\n",
       "        vertical-align: middle;\n",
       "    }\n",
       "\n",
       "    .dataframe tbody tr th {\n",
       "        vertical-align: top;\n",
       "    }\n",
       "\n",
       "    .dataframe thead th {\n",
       "        text-align: right;\n",
       "    }\n",
       "</style>\n",
       "<table border=\"1\" class=\"dataframe\">\n",
       "  <thead>\n",
       "    <tr style=\"text-align: right;\">\n",
       "      <th></th>\n",
       "      <th>Learner</th>\n",
       "      <th>Test</th>\n",
       "      <th>p1</th>\n",
       "      <th>p2</th>\n",
       "      <th>Avg</th>\n",
       "    </tr>\n",
       "  </thead>\n",
       "  <tbody>\n",
       "    <tr>\n",
       "      <td>0</td>\n",
       "      <td>BOSHIELO, Bontle Ashley</td>\n",
       "      <td>11</td>\n",
       "      <td>10</td>\n",
       "      <td>6</td>\n",
       "      <td>10.8</td>\n",
       "    </tr>\n",
       "    <tr>\n",
       "      <td>1</td>\n",
       "      <td>KGAFELA, Dimpho Joel</td>\n",
       "      <td>12</td>\n",
       "      <td>1</td>\n",
       "      <td>2</td>\n",
       "      <td>6.0</td>\n",
       "    </tr>\n",
       "    <tr>\n",
       "      <td>2</td>\n",
       "      <td>KUTU, Ofentse</td>\n",
       "      <td>32</td>\n",
       "      <td>36</td>\n",
       "      <td>23</td>\n",
       "      <td>36.4</td>\n",
       "    </tr>\n",
       "    <tr>\n",
       "      <td>3</td>\n",
       "      <td>LEFOKA, Kgothatso Soul</td>\n",
       "      <td>40</td>\n",
       "      <td>44</td>\n",
       "      <td>44</td>\n",
       "      <td>51.2</td>\n",
       "    </tr>\n",
       "    <tr>\n",
       "      <td>4</td>\n",
       "      <td>LEHLOKOANA, Neo Given</td>\n",
       "      <td>17</td>\n",
       "      <td>23</td>\n",
       "      <td>25</td>\n",
       "      <td>26.0</td>\n",
       "    </tr>\n",
       "  </tbody>\n",
       "</table>\n",
       "</div>"
      ],
      "text/plain": [
       "                   Learner   Test  p1  p2   Avg\n",
       "0  BOSHIELO, Bontle Ashley     11  10   6  10.8\n",
       "1      KGAFELA, Dimpho Joel    12   1   2   6.0\n",
       "2            KUTU, Ofentse     32  36  23  36.4\n",
       "3    LEFOKA, Kgothatso Soul    40  44  44  51.2\n",
       "4     LEHLOKOANA, Neo Given    17  23  25  26.0"
      ]
     },
     "execution_count": 120,
     "metadata": {},
     "output_type": "execute_result"
    }
   ],
   "source": [
    "t4.head()"
   ]
  },
  {
   "cell_type": "code",
   "execution_count": 137,
   "metadata": {},
   "outputs": [
    {
     "name": "stdout",
     "output_type": "stream",
     "text": [
      "Passed:  8\n",
      "Failed:  13\n"
     ]
    }
   ],
   "source": [
    "gem = 0\n",
    "shem = 0\n",
    "\n",
    "for i in t4.Avg:\n",
    "    if i >= 30:\n",
    "        gem += 1\n",
    "    elif i < 30:\n",
    "        shem += 1\n",
    "\n",
    "print(\"Passed: \", gem)\n",
    "print(\"Failed: \", shem)"
   ]
  },
  {
   "cell_type": "code",
   "execution_count": 121,
   "metadata": {},
   "outputs": [
    {
     "data": {
      "text/html": [
       "<div>\n",
       "<style scoped>\n",
       "    .dataframe tbody tr th:only-of-type {\n",
       "        vertical-align: middle;\n",
       "    }\n",
       "\n",
       "    .dataframe tbody tr th {\n",
       "        vertical-align: top;\n",
       "    }\n",
       "\n",
       "    .dataframe thead th {\n",
       "        text-align: right;\n",
       "    }\n",
       "</style>\n",
       "<table border=\"1\" class=\"dataframe\">\n",
       "  <thead>\n",
       "    <tr style=\"text-align: right;\">\n",
       "      <th></th>\n",
       "      <th>Learner</th>\n",
       "      <th>Test</th>\n",
       "      <th>p1</th>\n",
       "      <th>p2</th>\n",
       "      <th>Avg</th>\n",
       "    </tr>\n",
       "  </thead>\n",
       "  <tbody>\n",
       "    <tr>\n",
       "      <td>0</td>\n",
       "      <td>BOSHIELO, Bontle Ashley</td>\n",
       "      <td>11</td>\n",
       "      <td>10</td>\n",
       "      <td>6</td>\n",
       "      <td>10.8</td>\n",
       "    </tr>\n",
       "    <tr>\n",
       "      <td>1</td>\n",
       "      <td>KGAFELA, Dimpho Joel</td>\n",
       "      <td>12</td>\n",
       "      <td>1</td>\n",
       "      <td>2</td>\n",
       "      <td>6.0</td>\n",
       "    </tr>\n",
       "    <tr>\n",
       "      <td>4</td>\n",
       "      <td>LEHLOKOANA, Neo Given</td>\n",
       "      <td>17</td>\n",
       "      <td>23</td>\n",
       "      <td>25</td>\n",
       "      <td>26.0</td>\n",
       "    </tr>\n",
       "    <tr>\n",
       "      <td>5</td>\n",
       "      <td>MAAKWANA, Karabo Precious</td>\n",
       "      <td>11</td>\n",
       "      <td>26</td>\n",
       "      <td>10</td>\n",
       "      <td>18.8</td>\n",
       "    </tr>\n",
       "    <tr>\n",
       "      <td>6</td>\n",
       "      <td>MAHLABEGOANE, Lethabo Amania</td>\n",
       "      <td>1</td>\n",
       "      <td>14</td>\n",
       "      <td>2</td>\n",
       "      <td>6.8</td>\n",
       "    </tr>\n",
       "    <tr>\n",
       "      <td>7</td>\n",
       "      <td>MALOKA, Buang Masha</td>\n",
       "      <td>18</td>\n",
       "      <td>7</td>\n",
       "      <td>9</td>\n",
       "      <td>13.6</td>\n",
       "    </tr>\n",
       "    <tr>\n",
       "      <td>8</td>\n",
       "      <td>MAREME, Thapelo</td>\n",
       "      <td>23</td>\n",
       "      <td>25</td>\n",
       "      <td>21</td>\n",
       "      <td>27.6</td>\n",
       "    </tr>\n",
       "    <tr>\n",
       "      <td>10</td>\n",
       "      <td>MKHARI, Lesego Glenrose</td>\n",
       "      <td>23</td>\n",
       "      <td>22</td>\n",
       "      <td>24</td>\n",
       "      <td>27.6</td>\n",
       "    </tr>\n",
       "    <tr>\n",
       "      <td>11</td>\n",
       "      <td>MOEKETSI, Dimpho Annah</td>\n",
       "      <td>25</td>\n",
       "      <td>17</td>\n",
       "      <td>6</td>\n",
       "      <td>19.2</td>\n",
       "    </tr>\n",
       "    <tr>\n",
       "      <td>13</td>\n",
       "      <td>MOLEKWA, Kamogelo Precious</td>\n",
       "      <td>19</td>\n",
       "      <td>13</td>\n",
       "      <td>5</td>\n",
       "      <td>14.8</td>\n",
       "    </tr>\n",
       "    <tr>\n",
       "      <td>18</td>\n",
       "      <td>SEFSIKE, Lebogang</td>\n",
       "      <td>3</td>\n",
       "      <td>14</td>\n",
       "      <td>4</td>\n",
       "      <td>8.4</td>\n",
       "    </tr>\n",
       "    <tr>\n",
       "      <td>19</td>\n",
       "      <td>SELOLO, Sharon Ledile</td>\n",
       "      <td>30</td>\n",
       "      <td>28</td>\n",
       "      <td>12</td>\n",
       "      <td>28.0</td>\n",
       "    </tr>\n",
       "    <tr>\n",
       "      <td>20</td>\n",
       "      <td>SETIMO, Lydia</td>\n",
       "      <td>7</td>\n",
       "      <td>13</td>\n",
       "      <td>8</td>\n",
       "      <td>11.2</td>\n",
       "    </tr>\n",
       "  </tbody>\n",
       "</table>\n",
       "</div>"
      ],
      "text/plain": [
       "                        Learner   Test  p1  p2   Avg\n",
       "0       BOSHIELO, Bontle Ashley     11  10   6  10.8\n",
       "1           KGAFELA, Dimpho Joel    12   1   2   6.0\n",
       "4          LEHLOKOANA, Neo Given    17  23  25  26.0\n",
       "5      MAAKWANA, Karabo Precious    11  26  10  18.8\n",
       "6   MAHLABEGOANE, Lethabo Amania     1  14   2   6.8\n",
       "7            MALOKA, Buang Masha    18   7   9  13.6\n",
       "8               MAREME, Thapelo     23  25  21  27.6\n",
       "10       MKHARI, Lesego Glenrose    23  22  24  27.6\n",
       "11       MOEKETSI, Dimpho Annah     25  17   6  19.2\n",
       "13    MOLEKWA, Kamogelo Precious    19  13   5  14.8\n",
       "18            SEFSIKE, Lebogang      3  14   4   8.4\n",
       "19        SELOLO, Sharon Ledile     30  28  12  28.0\n",
       "20                SETIMO, Lydia      7  13   8  11.2"
      ]
     },
     "execution_count": 121,
     "metadata": {},
     "output_type": "execute_result"
    }
   ],
   "source": [
    "t4[t4.Avg < 30]"
   ]
  },
  {
   "cell_type": "code",
   "execution_count": 122,
   "metadata": {},
   "outputs": [
    {
     "data": {
      "text/html": [
       "<div>\n",
       "<style scoped>\n",
       "    .dataframe tbody tr th:only-of-type {\n",
       "        vertical-align: middle;\n",
       "    }\n",
       "\n",
       "    .dataframe tbody tr th {\n",
       "        vertical-align: top;\n",
       "    }\n",
       "\n",
       "    .dataframe thead th {\n",
       "        text-align: right;\n",
       "    }\n",
       "</style>\n",
       "<table border=\"1\" class=\"dataframe\">\n",
       "  <thead>\n",
       "    <tr style=\"text-align: right;\">\n",
       "      <th></th>\n",
       "      <th>Learner</th>\n",
       "      <th>Test</th>\n",
       "      <th>p1</th>\n",
       "      <th>p2</th>\n",
       "      <th>Avg</th>\n",
       "    </tr>\n",
       "  </thead>\n",
       "  <tbody>\n",
       "    <tr>\n",
       "      <td>2</td>\n",
       "      <td>KUTU, Ofentse</td>\n",
       "      <td>32</td>\n",
       "      <td>36</td>\n",
       "      <td>23</td>\n",
       "      <td>36.4</td>\n",
       "    </tr>\n",
       "    <tr>\n",
       "      <td>3</td>\n",
       "      <td>LEFOKA, Kgothatso Soul</td>\n",
       "      <td>40</td>\n",
       "      <td>44</td>\n",
       "      <td>44</td>\n",
       "      <td>51.2</td>\n",
       "    </tr>\n",
       "    <tr>\n",
       "      <td>9</td>\n",
       "      <td>MASHIA, Omphile Elizabeth</td>\n",
       "      <td>19</td>\n",
       "      <td>39</td>\n",
       "      <td>33</td>\n",
       "      <td>36.4</td>\n",
       "    </tr>\n",
       "    <tr>\n",
       "      <td>12</td>\n",
       "      <td>MOFOKENG, Selinah Magauta</td>\n",
       "      <td>33</td>\n",
       "      <td>44</td>\n",
       "      <td>37</td>\n",
       "      <td>45.6</td>\n",
       "    </tr>\n",
       "    <tr>\n",
       "      <td>14</td>\n",
       "      <td>NTLOANA, Reotshepile Mamasole</td>\n",
       "      <td>37</td>\n",
       "      <td>39</td>\n",
       "      <td>42</td>\n",
       "      <td>47.2</td>\n",
       "    </tr>\n",
       "    <tr>\n",
       "      <td>15</td>\n",
       "      <td>NTSAKATA, Boitshoko</td>\n",
       "      <td>29</td>\n",
       "      <td>27</td>\n",
       "      <td>25</td>\n",
       "      <td>32.4</td>\n",
       "    </tr>\n",
       "    <tr>\n",
       "      <td>16</td>\n",
       "      <td>NYATLO, Lenkhumane Jonas</td>\n",
       "      <td>36</td>\n",
       "      <td>33</td>\n",
       "      <td>34</td>\n",
       "      <td>41.2</td>\n",
       "    </tr>\n",
       "    <tr>\n",
       "      <td>17</td>\n",
       "      <td>PHAGO, Thato Frans</td>\n",
       "      <td>37</td>\n",
       "      <td>45</td>\n",
       "      <td>40</td>\n",
       "      <td>48.8</td>\n",
       "    </tr>\n",
       "  </tbody>\n",
       "</table>\n",
       "</div>"
      ],
      "text/plain": [
       "                         Learner   Test  p1  p2   Avg\n",
       "2                  KUTU, Ofentse     32  36  23  36.4\n",
       "3          LEFOKA, Kgothatso Soul    40  44  44  51.2\n",
       "9      MASHIA, Omphile Elizabeth     19  39  33  36.4\n",
       "12     MOFOKENG, Selinah Magauta     33  44  37  45.6\n",
       "14  NTLOANA, Reotshepile Mamasole    37  39  42  47.2\n",
       "15           NTSAKATA, Boitshoko     29  27  25  32.4\n",
       "16      NYATLO, Lenkhumane Jonas     36  33  34  41.2\n",
       "17            PHAGO, Thato Frans     37  45  40  48.8"
      ]
     },
     "execution_count": 122,
     "metadata": {},
     "output_type": "execute_result"
    }
   ],
   "source": [
    "t4[t4.Avg > 30]"
   ]
  },
  {
   "cell_type": "markdown",
   "metadata": {},
   "source": [
    "# making adjustments"
   ]
  },
  {
   "cell_type": "code",
   "execution_count": 125,
   "metadata": {},
   "outputs": [],
   "source": [
    "# copy the original data before adjusting it\n",
    "\n",
    "t4_copy=t4.copy()"
   ]
  },
  {
   "cell_type": "code",
   "execution_count": 126,
   "metadata": {},
   "outputs": [],
   "source": [
    "# increase paper 1 by 30 and paper 2 by 25\n",
    "\n",
    "t4_copy.p1 = t4.p1 + 30\n",
    "t4_copy.p2 = t4.p2 + 25\n",
    "\n",
    "# print(t4_copy.p1[:], t4_copy.p1[:] )"
   ]
  },
  {
   "cell_type": "code",
   "execution_count": 127,
   "metadata": {},
   "outputs": [],
   "source": [
    "t4_copy.Avg = ((t4_copy.Test + t4_copy.p1 + t4_copy.p2)/250 )*100\n",
    "\n",
    "# t4_copy.Avg[:]"
   ]
  },
  {
   "cell_type": "code",
   "execution_count": 128,
   "metadata": {},
   "outputs": [
    {
     "data": {
      "text/html": [
       "<div>\n",
       "<style scoped>\n",
       "    .dataframe tbody tr th:only-of-type {\n",
       "        vertical-align: middle;\n",
       "    }\n",
       "\n",
       "    .dataframe tbody tr th {\n",
       "        vertical-align: top;\n",
       "    }\n",
       "\n",
       "    .dataframe thead th {\n",
       "        text-align: right;\n",
       "    }\n",
       "</style>\n",
       "<table border=\"1\" class=\"dataframe\">\n",
       "  <thead>\n",
       "    <tr style=\"text-align: right;\">\n",
       "      <th></th>\n",
       "      <th>Learner</th>\n",
       "      <th>Test</th>\n",
       "      <th>p1</th>\n",
       "      <th>p2</th>\n",
       "      <th>Avg</th>\n",
       "    </tr>\n",
       "  </thead>\n",
       "  <tbody>\n",
       "    <tr>\n",
       "      <td>0</td>\n",
       "      <td>BOSHIELO, Bontle Ashley</td>\n",
       "      <td>11</td>\n",
       "      <td>40</td>\n",
       "      <td>31</td>\n",
       "      <td>32.8</td>\n",
       "    </tr>\n",
       "    <tr>\n",
       "      <td>1</td>\n",
       "      <td>KGAFELA, Dimpho Joel</td>\n",
       "      <td>12</td>\n",
       "      <td>31</td>\n",
       "      <td>27</td>\n",
       "      <td>28.0</td>\n",
       "    </tr>\n",
       "    <tr>\n",
       "      <td>2</td>\n",
       "      <td>KUTU, Ofentse</td>\n",
       "      <td>32</td>\n",
       "      <td>66</td>\n",
       "      <td>48</td>\n",
       "      <td>58.4</td>\n",
       "    </tr>\n",
       "    <tr>\n",
       "      <td>3</td>\n",
       "      <td>LEFOKA, Kgothatso Soul</td>\n",
       "      <td>40</td>\n",
       "      <td>74</td>\n",
       "      <td>69</td>\n",
       "      <td>73.2</td>\n",
       "    </tr>\n",
       "    <tr>\n",
       "      <td>4</td>\n",
       "      <td>LEHLOKOANA, Neo Given</td>\n",
       "      <td>17</td>\n",
       "      <td>53</td>\n",
       "      <td>50</td>\n",
       "      <td>48.0</td>\n",
       "    </tr>\n",
       "  </tbody>\n",
       "</table>\n",
       "</div>"
      ],
      "text/plain": [
       "                   Learner   Test  p1  p2   Avg\n",
       "0  BOSHIELO, Bontle Ashley     11  40  31  32.8\n",
       "1      KGAFELA, Dimpho Joel    12  31  27  28.0\n",
       "2            KUTU, Ofentse     32  66  48  58.4\n",
       "3    LEFOKA, Kgothatso Soul    40  74  69  73.2\n",
       "4     LEHLOKOANA, Neo Given    17  53  50  48.0"
      ]
     },
     "execution_count": 128,
     "metadata": {},
     "output_type": "execute_result"
    }
   ],
   "source": [
    "t4_copy.head()"
   ]
  },
  {
   "cell_type": "markdown",
   "metadata": {},
   "source": [
    " number of learners who passed and who failed"
   ]
  },
  {
   "cell_type": "code",
   "execution_count": 129,
   "metadata": {},
   "outputs": [
    {
     "name": "stdout",
     "output_type": "stream",
     "text": [
      "19\n",
      "2\n"
     ]
    }
   ],
   "source": [
    "passed = 0\n",
    "failed = 0\n",
    "\n",
    "for i in t4_copy.Avg:\n",
    "    if i >= 30:\n",
    "        passed += 1\n",
    "    elif i < 30:\n",
    "        failed += 1\n",
    "\n",
    "print(passed)\n",
    "print(failed)"
   ]
  },
  {
   "cell_type": "code",
   "execution_count": 130,
   "metadata": {},
   "outputs": [
    {
     "data": {
      "text/plain": [
       "Index(['Learner ', 'Test', 'p1', 'p2', 'Avg'], dtype='object')"
      ]
     },
     "execution_count": 130,
     "metadata": {},
     "output_type": "execute_result"
    }
   ],
   "source": [
    "t4.columns"
   ]
  },
  {
   "cell_type": "code",
   "execution_count": 131,
   "metadata": {},
   "outputs": [
    {
     "data": {
      "text/html": [
       "<div>\n",
       "<style scoped>\n",
       "    .dataframe tbody tr th:only-of-type {\n",
       "        vertical-align: middle;\n",
       "    }\n",
       "\n",
       "    .dataframe tbody tr th {\n",
       "        vertical-align: top;\n",
       "    }\n",
       "\n",
       "    .dataframe thead th {\n",
       "        text-align: right;\n",
       "    }\n",
       "</style>\n",
       "<table border=\"1\" class=\"dataframe\">\n",
       "  <thead>\n",
       "    <tr style=\"text-align: right;\">\n",
       "      <th></th>\n",
       "      <th>Learner</th>\n",
       "      <th>Test</th>\n",
       "      <th>p1</th>\n",
       "      <th>p2</th>\n",
       "      <th>Avg</th>\n",
       "    </tr>\n",
       "  </thead>\n",
       "  <tbody>\n",
       "    <tr>\n",
       "      <td>0</td>\n",
       "      <td>BOSHIELO, Bontle Ashley</td>\n",
       "      <td>11</td>\n",
       "      <td>40</td>\n",
       "      <td>31</td>\n",
       "      <td>32.8</td>\n",
       "    </tr>\n",
       "    <tr>\n",
       "      <td>1</td>\n",
       "      <td>KGAFELA, Dimpho Joel</td>\n",
       "      <td>12</td>\n",
       "      <td>31</td>\n",
       "      <td>27</td>\n",
       "      <td>28.0</td>\n",
       "    </tr>\n",
       "    <tr>\n",
       "      <td>2</td>\n",
       "      <td>KUTU, Ofentse</td>\n",
       "      <td>32</td>\n",
       "      <td>66</td>\n",
       "      <td>48</td>\n",
       "      <td>58.4</td>\n",
       "    </tr>\n",
       "    <tr>\n",
       "      <td>3</td>\n",
       "      <td>LEFOKA, Kgothatso Soul</td>\n",
       "      <td>40</td>\n",
       "      <td>74</td>\n",
       "      <td>69</td>\n",
       "      <td>73.2</td>\n",
       "    </tr>\n",
       "    <tr>\n",
       "      <td>4</td>\n",
       "      <td>LEHLOKOANA, Neo Given</td>\n",
       "      <td>17</td>\n",
       "      <td>53</td>\n",
       "      <td>50</td>\n",
       "      <td>48.0</td>\n",
       "    </tr>\n",
       "  </tbody>\n",
       "</table>\n",
       "</div>"
      ],
      "text/plain": [
       "                   Learner   Test  p1  p2   Avg\n",
       "0  BOSHIELO, Bontle Ashley     11  40  31  32.8\n",
       "1      KGAFELA, Dimpho Joel    12  31  27  28.0\n",
       "2            KUTU, Ofentse     32  66  48  58.4\n",
       "3    LEFOKA, Kgothatso Soul    40  74  69  73.2\n",
       "4     LEHLOKOANA, Neo Given    17  53  50  48.0"
      ]
     },
     "execution_count": 131,
     "metadata": {},
     "output_type": "execute_result"
    }
   ],
   "source": [
    "marks = t4_copy.loc[:, [\"Learner \",\"Test\", \"p1\", \"p2\", \"Avg\"]]\n",
    "marks.head()"
   ]
  },
  {
   "cell_type": "code",
   "execution_count": 132,
   "metadata": {},
   "outputs": [],
   "source": [
    "# marks.to_excel(\"marks_10.xlsx\")"
   ]
  },
  {
   "cell_type": "markdown",
   "metadata": {},
   "source": [
    "learners who failed"
   ]
  },
  {
   "cell_type": "code",
   "execution_count": 133,
   "metadata": {},
   "outputs": [
    {
     "data": {
      "text/html": [
       "<div>\n",
       "<style scoped>\n",
       "    .dataframe tbody tr th:only-of-type {\n",
       "        vertical-align: middle;\n",
       "    }\n",
       "\n",
       "    .dataframe tbody tr th {\n",
       "        vertical-align: top;\n",
       "    }\n",
       "\n",
       "    .dataframe thead th {\n",
       "        text-align: right;\n",
       "    }\n",
       "</style>\n",
       "<table border=\"1\" class=\"dataframe\">\n",
       "  <thead>\n",
       "    <tr style=\"text-align: right;\">\n",
       "      <th></th>\n",
       "      <th>Learner</th>\n",
       "      <th>Test</th>\n",
       "      <th>p1</th>\n",
       "      <th>p2</th>\n",
       "      <th>Avg</th>\n",
       "    </tr>\n",
       "  </thead>\n",
       "  <tbody>\n",
       "    <tr>\n",
       "      <td>1</td>\n",
       "      <td>KGAFELA, Dimpho Joel</td>\n",
       "      <td>12</td>\n",
       "      <td>31</td>\n",
       "      <td>27</td>\n",
       "      <td>28.0</td>\n",
       "    </tr>\n",
       "    <tr>\n",
       "      <td>6</td>\n",
       "      <td>MAHLABEGOANE, Lethabo Amania</td>\n",
       "      <td>1</td>\n",
       "      <td>44</td>\n",
       "      <td>27</td>\n",
       "      <td>28.8</td>\n",
       "    </tr>\n",
       "  </tbody>\n",
       "</table>\n",
       "</div>"
      ],
      "text/plain": [
       "                       Learner   Test  p1  p2   Avg\n",
       "1          KGAFELA, Dimpho Joel    12  31  27  28.0\n",
       "6  MAHLABEGOANE, Lethabo Amania     1  44  27  28.8"
      ]
     },
     "execution_count": 133,
     "metadata": {},
     "output_type": "execute_result"
    }
   ],
   "source": [
    "t4_copy[t4_copy.Avg < 30]"
   ]
  },
  {
   "cell_type": "markdown",
   "metadata": {},
   "source": [
    "learners who passed"
   ]
  },
  {
   "cell_type": "code",
   "execution_count": 134,
   "metadata": {},
   "outputs": [
    {
     "data": {
      "text/html": [
       "<div>\n",
       "<style scoped>\n",
       "    .dataframe tbody tr th:only-of-type {\n",
       "        vertical-align: middle;\n",
       "    }\n",
       "\n",
       "    .dataframe tbody tr th {\n",
       "        vertical-align: top;\n",
       "    }\n",
       "\n",
       "    .dataframe thead th {\n",
       "        text-align: right;\n",
       "    }\n",
       "</style>\n",
       "<table border=\"1\" class=\"dataframe\">\n",
       "  <thead>\n",
       "    <tr style=\"text-align: right;\">\n",
       "      <th></th>\n",
       "      <th>Learner</th>\n",
       "      <th>Test</th>\n",
       "      <th>p1</th>\n",
       "      <th>p2</th>\n",
       "      <th>Avg</th>\n",
       "    </tr>\n",
       "  </thead>\n",
       "  <tbody>\n",
       "    <tr>\n",
       "      <td>0</td>\n",
       "      <td>BOSHIELO, Bontle Ashley</td>\n",
       "      <td>11</td>\n",
       "      <td>40</td>\n",
       "      <td>31</td>\n",
       "      <td>32.8</td>\n",
       "    </tr>\n",
       "    <tr>\n",
       "      <td>2</td>\n",
       "      <td>KUTU, Ofentse</td>\n",
       "      <td>32</td>\n",
       "      <td>66</td>\n",
       "      <td>48</td>\n",
       "      <td>58.4</td>\n",
       "    </tr>\n",
       "    <tr>\n",
       "      <td>3</td>\n",
       "      <td>LEFOKA, Kgothatso Soul</td>\n",
       "      <td>40</td>\n",
       "      <td>74</td>\n",
       "      <td>69</td>\n",
       "      <td>73.2</td>\n",
       "    </tr>\n",
       "    <tr>\n",
       "      <td>4</td>\n",
       "      <td>LEHLOKOANA, Neo Given</td>\n",
       "      <td>17</td>\n",
       "      <td>53</td>\n",
       "      <td>50</td>\n",
       "      <td>48.0</td>\n",
       "    </tr>\n",
       "    <tr>\n",
       "      <td>5</td>\n",
       "      <td>MAAKWANA, Karabo Precious</td>\n",
       "      <td>11</td>\n",
       "      <td>56</td>\n",
       "      <td>35</td>\n",
       "      <td>40.8</td>\n",
       "    </tr>\n",
       "    <tr>\n",
       "      <td>7</td>\n",
       "      <td>MALOKA, Buang Masha</td>\n",
       "      <td>18</td>\n",
       "      <td>37</td>\n",
       "      <td>34</td>\n",
       "      <td>35.6</td>\n",
       "    </tr>\n",
       "    <tr>\n",
       "      <td>8</td>\n",
       "      <td>MAREME, Thapelo</td>\n",
       "      <td>23</td>\n",
       "      <td>55</td>\n",
       "      <td>46</td>\n",
       "      <td>49.6</td>\n",
       "    </tr>\n",
       "    <tr>\n",
       "      <td>9</td>\n",
       "      <td>MASHIA, Omphile Elizabeth</td>\n",
       "      <td>19</td>\n",
       "      <td>69</td>\n",
       "      <td>58</td>\n",
       "      <td>58.4</td>\n",
       "    </tr>\n",
       "    <tr>\n",
       "      <td>10</td>\n",
       "      <td>MKHARI, Lesego Glenrose</td>\n",
       "      <td>23</td>\n",
       "      <td>52</td>\n",
       "      <td>49</td>\n",
       "      <td>49.6</td>\n",
       "    </tr>\n",
       "    <tr>\n",
       "      <td>11</td>\n",
       "      <td>MOEKETSI, Dimpho Annah</td>\n",
       "      <td>25</td>\n",
       "      <td>47</td>\n",
       "      <td>31</td>\n",
       "      <td>41.2</td>\n",
       "    </tr>\n",
       "    <tr>\n",
       "      <td>12</td>\n",
       "      <td>MOFOKENG, Selinah Magauta</td>\n",
       "      <td>33</td>\n",
       "      <td>74</td>\n",
       "      <td>62</td>\n",
       "      <td>67.6</td>\n",
       "    </tr>\n",
       "    <tr>\n",
       "      <td>13</td>\n",
       "      <td>MOLEKWA, Kamogelo Precious</td>\n",
       "      <td>19</td>\n",
       "      <td>43</td>\n",
       "      <td>30</td>\n",
       "      <td>36.8</td>\n",
       "    </tr>\n",
       "    <tr>\n",
       "      <td>14</td>\n",
       "      <td>NTLOANA, Reotshepile Mamasole</td>\n",
       "      <td>37</td>\n",
       "      <td>69</td>\n",
       "      <td>67</td>\n",
       "      <td>69.2</td>\n",
       "    </tr>\n",
       "    <tr>\n",
       "      <td>15</td>\n",
       "      <td>NTSAKATA, Boitshoko</td>\n",
       "      <td>29</td>\n",
       "      <td>57</td>\n",
       "      <td>50</td>\n",
       "      <td>54.4</td>\n",
       "    </tr>\n",
       "    <tr>\n",
       "      <td>16</td>\n",
       "      <td>NYATLO, Lenkhumane Jonas</td>\n",
       "      <td>36</td>\n",
       "      <td>63</td>\n",
       "      <td>59</td>\n",
       "      <td>63.2</td>\n",
       "    </tr>\n",
       "    <tr>\n",
       "      <td>17</td>\n",
       "      <td>PHAGO, Thato Frans</td>\n",
       "      <td>37</td>\n",
       "      <td>75</td>\n",
       "      <td>65</td>\n",
       "      <td>70.8</td>\n",
       "    </tr>\n",
       "    <tr>\n",
       "      <td>18</td>\n",
       "      <td>SEFSIKE, Lebogang</td>\n",
       "      <td>3</td>\n",
       "      <td>44</td>\n",
       "      <td>29</td>\n",
       "      <td>30.4</td>\n",
       "    </tr>\n",
       "    <tr>\n",
       "      <td>19</td>\n",
       "      <td>SELOLO, Sharon Ledile</td>\n",
       "      <td>30</td>\n",
       "      <td>58</td>\n",
       "      <td>37</td>\n",
       "      <td>50.0</td>\n",
       "    </tr>\n",
       "    <tr>\n",
       "      <td>20</td>\n",
       "      <td>SETIMO, Lydia</td>\n",
       "      <td>7</td>\n",
       "      <td>43</td>\n",
       "      <td>33</td>\n",
       "      <td>33.2</td>\n",
       "    </tr>\n",
       "  </tbody>\n",
       "</table>\n",
       "</div>"
      ],
      "text/plain": [
       "                         Learner   Test  p1  p2   Avg\n",
       "0        BOSHIELO, Bontle Ashley     11  40  31  32.8\n",
       "2                  KUTU, Ofentse     32  66  48  58.4\n",
       "3          LEFOKA, Kgothatso Soul    40  74  69  73.2\n",
       "4           LEHLOKOANA, Neo Given    17  53  50  48.0\n",
       "5       MAAKWANA, Karabo Precious    11  56  35  40.8\n",
       "7             MALOKA, Buang Masha    18  37  34  35.6\n",
       "8                MAREME, Thapelo     23  55  46  49.6\n",
       "9      MASHIA, Omphile Elizabeth     19  69  58  58.4\n",
       "10        MKHARI, Lesego Glenrose    23  52  49  49.6\n",
       "11        MOEKETSI, Dimpho Annah     25  47  31  41.2\n",
       "12     MOFOKENG, Selinah Magauta     33  74  62  67.6\n",
       "13     MOLEKWA, Kamogelo Precious    19  43  30  36.8\n",
       "14  NTLOANA, Reotshepile Mamasole    37  69  67  69.2\n",
       "15           NTSAKATA, Boitshoko     29  57  50  54.4\n",
       "16      NYATLO, Lenkhumane Jonas     36  63  59  63.2\n",
       "17            PHAGO, Thato Frans     37  75  65  70.8\n",
       "18             SEFSIKE, Lebogang      3  44  29  30.4\n",
       "19         SELOLO, Sharon Ledile     30  58  37  50.0\n",
       "20                 SETIMO, Lydia      7  43  33  33.2"
      ]
     },
     "execution_count": 134,
     "metadata": {},
     "output_type": "execute_result"
    }
   ],
   "source": [
    "t4_copy[t4_copy.Avg > 30]"
   ]
  },
  {
   "cell_type": "markdown",
   "metadata": {},
   "source": [
    "# compare before and after adjustment"
   ]
  },
  {
   "cell_type": "code",
   "execution_count": 147,
   "metadata": {},
   "outputs": [
    {
     "name": "stdout",
     "output_type": "stream",
     "text": [
      "____________________________________\n",
      "BEFORE ADJUSTMENTS\n",
      "____________________________________\n",
      "Number passed: 8\n",
      "Number failed: 13\n",
      "____________________________________\n",
      "____________________________________\n",
      "AFTER ADJUSTMENTS\n",
      "____________________________________\n",
      "Number passed: 19\n",
      "Number failed: 2\n",
      "____________________________________\n"
     ]
    },
    {
     "data": {
      "text/plain": [
       "<Figure size 1152x648 with 0 Axes>"
      ]
     },
     "metadata": {},
     "output_type": "display_data"
    },
    {
     "data": {
      "image/png": "[encoded data removed]",
      "text/plain": [
       "<Figure size 1152x576 with 2 Axes>"
      ]
     },
     "metadata": {
      "needs_background": "light"
     },
     "output_type": "display_data"
    }
   ],
   "source": [
    "# plotting graphs\n",
    "fig = plt.figure(figsize=(16, 9))\n",
    "\n",
    "fig, axes = plt.subplots(1, 2, figsize=(16,8))\n",
    "\n",
    "# the labes on the x axis\n",
    "labels = [\"passed\", \"failed\"]\n",
    "\n",
    "# stored values of number of learners before adjustments\n",
    "val = [gem, shem]\n",
    "\n",
    "# stored values of number of learners after adjustments\n",
    "adj_val = [passed, failed]\n",
    "\n",
    "\n",
    "axes[0].bar(labels, val)\n",
    "axes[0].set_title(\"Before Adjustments\")\n",
    "\n",
    "axes[1].bar(labels, adj_val)\n",
    "axes[1].set_title(\"After Adjustments\")\n",
    "\n",
    "print(\"____________________________________\")\n",
    "print(\"BEFORE ADJUSTMENTS\")\n",
    "print(\"____________________________________\")\n",
    "print(\"Number passed:\", gem)\n",
    "print(\"Number failed:\", shem)\n",
    "print(\"____________________________________\")\n",
    "\n",
    "\n",
    "print(\"____________________________________\")\n",
    "print(\"AFTER ADJUSTMENTS\")\n",
    "print(\"____________________________________\")\n",
    "print(\"Number passed:\", passed)\n",
    "print(\"Number failed:\", failed)\n",
    "print(\"____________________________________\")"
   ]
  },
  {
   "cell_type": "code",
   "execution_count": 78,
   "metadata": {},
   "outputs": [],
   "source": [
    "t4_copy.to_excel(exported + \"\\\\exported\\\\copy_t4.xlsx\")"
   ]
  }
 ],
 "metadata": {
  "kernelspec": {
   "display_name": "Python 3",
   "language": "python",
   "name": "python3"
  },
  "language_info": {
   "codemirror_mode": {
    "name": "ipython",
    "version": 3
   },
   "file_extension": ".py",
   "mimetype": "text/x-python",
   "name": "python",
   "nbconvert_exporter": "python",
   "pygments_lexer": "ipython3",
   "version": "3.7.4"
  }
 },
 "nbformat": 4,
 "nbformat_minor": 2
}
