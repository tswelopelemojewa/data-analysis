{
 "cells": [
  {
   "cell_type": "code",
   "execution_count": 1,
   "metadata": {},
   "outputs": [],
   "source": [
    "# import os to interact with the operating systen\n",
    "import os\n",
    "import numpy as np\n",
    "import pandas as pd\n",
    "import matplotlib.pyplot as plt\n"
   ]
  },
  {
   "cell_type": "code",
   "execution_count": 2,
   "metadata": {},
   "outputs": [
    {
     "data": {
      "text/plain": [
       "'C:\\\\Users\\\\user\\\\Desktop\\\\data science'"
      ]
     },
     "execution_count": 2,
     "metadata": {},
     "output_type": "execute_result"
    }
   ],
   "source": [
    "os.getcwd()"
   ]
  },
  {
   "cell_type": "code",
   "execution_count": 3,
   "metadata": {},
   "outputs": [],
   "source": [
    "os.chdir('C:\\\\Users\\\\user\\\\Desktop\\\\data science\\\\data\\\\2021')"
   ]
  },
  {
   "cell_type": "code",
   "execution_count": 4,
   "metadata": {},
   "outputs": [],
   "source": [
    "path_2021 = os.getcwd()"
   ]
  },
  {
   "cell_type": "code",
   "execution_count": 5,
   "metadata": {},
   "outputs": [],
   "source": [
    "# import of the excel files for analysis\n",
    "\n",
    "grade8 = pd.read_excel(\"08.xls\")\n",
    "grade9 = pd.read_excel(\"09.xls\")\n",
    "grade10 = pd.read_excel(\"10.xls\")\n",
    "grade11 = pd.read_excel(\"11.xls\")"
   ]
  },
  {
   "cell_type": "code",
   "execution_count": 6,
   "metadata": {},
   "outputs": [],
   "source": [
    "# preparing grade 8 file\n",
    "# removing unnecesary rows and columns\n",
    "\n",
    "must_go_col8= grade8.loc[:, 'Unnamed: 31':'Unnamed: 119']\n",
    "# g8 = grade8.iloc[6:-10,:]\n",
    "# grade8.head()"
   ]
  },
  {
   "cell_type": "code",
   "execution_count": 7,
   "metadata": {},
   "outputs": [],
   "source": [
    "# preparing grade 9 file\n",
    "# removing unnecesary rows and columns\n",
    "\n",
    "must_go_col9= grade9.loc[:, 'Unnamed: 31':'Unnamed: 119']\n",
    "# must_go_row = grade9.iloc[6:-10,:]\n",
    "# must_go_row.head()"
   ]
  },
  {
   "cell_type": "code",
   "execution_count": 8,
   "metadata": {},
   "outputs": [],
   "source": [
    "# preparing grade 10 file\n",
    "# getting rid of unnecessary columns\n",
    "\n",
    "\n",
    "must_go_col10= grade10.loc[:, 'Unnamed: 39':'Unnamed: 119']\n",
    "# must_go_row10 = grade10.iloc[6:-10,:]\n",
    "# must_go_row10.head()"
   ]
  },
  {
   "cell_type": "code",
   "execution_count": 9,
   "metadata": {},
   "outputs": [],
   "source": [
    "# preparing grade 11 file\n",
    "# getting rid of unnecessary columns\n",
    "\n",
    "\n",
    "must_go_col11= grade11.loc[:, 'Unnamed: 39':'Unnamed: 121']\n",
    "# must_go_row11.head()"
   ]
  },
  {
   "cell_type": "code",
   "execution_count": 10,
   "metadata": {},
   "outputs": [],
   "source": [
    "# ucols = ['must_go_col8', 'must_go_col9', 'must_go_col10', 'must_go_col11']"
   ]
  },
  {
   "cell_type": "code",
   "execution_count": 11,
   "metadata": {},
   "outputs": [
    {
     "data": {
      "text/plain": [
       "Index(['Unnamed: 0', 'Unnamed: 1', 'Learner', 'Unnamed: 3', 'Unnamed: 4',\n",
       "       'Unnamed: 5', 'Unnamed: 6', ' Home Language', '  Level',\n",
       "       ' Home Language (2)',\n",
       "       ...\n",
       "       'Unnamed: 113', 'Unnamed: 114', 'Unnamed: 115', 'Unnamed: 116',\n",
       "       'Unnamed: 117', 'Unnamed: 118', 'Unnamed: 119', 'Unnamed: 120',\n",
       "       'Unnamed: 121', 'Bachelor/ Diploma Pass '],\n",
       "      dtype='object', length=123)"
      ]
     },
     "execution_count": 11,
     "metadata": {},
     "output_type": "execute_result"
    }
   ],
   "source": [
    "\n",
    "grade11.columns\n",
    "# g9.columns"
   ]
  },
  {
   "cell_type": "code",
   "execution_count": 12,
   "metadata": {},
   "outputs": [],
   "source": [
    "grade10.drop(must_go_col10, axis='columns', inplace=True)\n",
    "grade11.drop(must_go_col11, axis='columns', inplace=True)"
   ]
  },
  {
   "cell_type": "code",
   "execution_count": 13,
   "metadata": {},
   "outputs": [
    {
     "data": {
      "text/plain": [
       "Index(['no', 'admission number', 'Learner', 'year', 'month', 'day', 'gender',\n",
       "       ' Home Language', '  Level', ' Home Language (2)', '  Level.1',\n",
       "       ' First Additional Language', '  Level.2',\n",
       "       ' 1st Additional\\n Language(2)', ' Level',\n",
       "       ' 1st Additional\\n Language(3)', ' Level.1', 'Accounting\\n(Gr 10)',\n",
       "       ' Level.2', 'Agricultural Sciences\\n(Gr 10)', ' Level.3',\n",
       "       'Business Studies\\n(Gr 10)', ' Level.4',\n",
       "       'Computer Applications Technology\\n(Gr 10)', ' Level.5',\n",
       "       'Economics\\n(Gr 10)', ' Level.6', 'Geography\\n(Gr 10)', ' Level.7',\n",
       "       'Life Orientation\\n(Gr 10)', ' Level.8', 'Life Sciences\\n(Gr 10)',\n",
       "       ' Level.9', 'Mathematical Literacy\\n(Gr 10)', ' Level.10',\n",
       "       'Mathematics\\n(Gr 10)', ' Level.11', 'Physical Sciences\\n(Gr 10)',\n",
       "       ' Level.12', 'Avg', 'code', 'Bachelor/ Diploma Pass '],\n",
       "      dtype='object')"
      ]
     },
     "execution_count": 13,
     "metadata": {},
     "output_type": "execute_result"
    }
   ],
   "source": [
    "grade10.columns"
   ]
  },
  {
   "cell_type": "code",
   "execution_count": 14,
   "metadata": {},
   "outputs": [
    {
     "data": {
      "text/plain": [
       "Index(['Unnamed: 0', 'Unnamed: 1', 'Learner', 'Unnamed: 3', 'Unnamed: 4',\n",
       "       'Unnamed: 5', 'Unnamed: 6', ' Home Language', '  Level',\n",
       "       ' Home Language (2)', '  Level.1', ' First Additional Language',\n",
       "       '  Level.2', ' 1st Additional\\n Language(2)', ' Level',\n",
       "       ' 1st Additional\\n Language(3)', ' Level.1', 'Accounting\\n(Gr 11)',\n",
       "       ' Level.2', 'Agricultural Sciences\\n(Gr 11)', ' Level.3',\n",
       "       'Business Studies\\n(Gr 11)', ' Level.4',\n",
       "       'Computer Applications Technology\\n(Gr 11)', ' Level.5',\n",
       "       'Economics\\n(Gr 11)', ' Level.6', 'Geography\\n(Gr 11)', ' Level.7',\n",
       "       'Life Orientation\\n(Gr 11)', ' Level.8', 'Life Sciences\\n(Gr 11)',\n",
       "       ' Level.9', 'Mathematical Literacy\\n(Gr 11)', ' Level.10',\n",
       "       'Mathematics\\n(Gr 11)', ' Level.11', 'Physical Sciences\\n(Gr 11)',\n",
       "       ' Level.12', 'Bachelor/ Diploma Pass '],\n",
       "      dtype='object')"
      ]
     },
     "execution_count": 14,
     "metadata": {},
     "output_type": "execute_result"
    }
   ],
   "source": [
    "grade11.columns"
   ]
  },
  {
   "cell_type": "code",
   "execution_count": 15,
   "metadata": {},
   "outputs": [],
   "source": [
    "# unnecessary columns for GET\n",
    "\n",
    "unwanted_subjects = ['  Level', ' Level', '  Level.2',' Level.4',' Level.5',' Level.6', ' Level.7',' Level.8', ' Level.1',' Home Language (2)','  Level.1',' 1st Additional\\n Language(2)', ' Level.2', ' 1st Additional\\n Language(3)', ' Level.3']"
   ]
  },
  {
   "cell_type": "code",
   "execution_count": 16,
   "metadata": {},
   "outputs": [],
   "source": [
    "# getting rid of unnecessary columns\n",
    "\n",
    "grade8.drop(must_go_col8, axis='columns', inplace=True)\n",
    "grade9.drop(must_go_col9, axis='columns', inplace=True)\n",
    "\n",
    "grade8.drop(unwanted_subjects, axis='columns', inplace=True)\n",
    "grade9.drop(unwanted_subjects, axis='columns', inplace=True)"
   ]
  },
  {
   "cell_type": "code",
   "execution_count": 17,
   "metadata": {},
   "outputs": [
    {
     "data": {
      "text/plain": [
       "Index(['no', 'admission no', 'Learner', 'year', 'month', 'day', 'gender',\n",
       "       ' Home Language', ' First Additional Language',\n",
       "       'Creative Arts\\n(Gr 09)', 'Economic Management Sciences\\n(Gr 09)',\n",
       "       'Life Orientation\\n(Gr 09)', 'Mathematics\\n(Gr 09)',\n",
       "       'Natural Sciences\\n(Gr 09)', 'Social Sciences\\n(Gr 09)',\n",
       "       'Technology\\n(Gr 09)', 'Avg', 'code'],\n",
       "      dtype='object')"
      ]
     },
     "execution_count": 17,
     "metadata": {},
     "output_type": "execute_result"
    }
   ],
   "source": [
    "grade9.columns"
   ]
  },
  {
   "cell_type": "code",
   "execution_count": 18,
   "metadata": {},
   "outputs": [
    {
     "data": {
      "text/plain": [
       "Index(['no', 'admission number', 'Learner', 'year', 'month', 'day', 'gender',\n",
       "       ' Home Language', ' First Additional Language',\n",
       "       'Creative Arts\\n(Gr 08)', 'Economic Management Sciences\\n(Gr 08)',\n",
       "       'Life Orientation\\n(Gr 08)', 'Mathematics\\n(Gr 08)',\n",
       "       'Natural Sciences\\n(Gr 08)', 'Social Sciences\\n(Gr 08)',\n",
       "       'Technology\\n(Gr 08)', 'Avg', 'code'],\n",
       "      dtype='object')"
      ]
     },
     "execution_count": 18,
     "metadata": {},
     "output_type": "execute_result"
    }
   ],
   "source": [
    "grade8.columns"
   ]
  },
  {
   "cell_type": "code",
   "execution_count": 19,
   "metadata": {},
   "outputs": [],
   "source": [
    "# grade8.head()"
   ]
  },
  {
   "cell_type": "code",
   "execution_count": 20,
   "metadata": {},
   "outputs": [],
   "source": [
    "# grade8.columns"
   ]
  },
  {
   "cell_type": "markdown",
   "metadata": {},
   "source": [
    "# Grade 8 Analysis"
   ]
  },
  {
   "cell_type": "code",
   "execution_count": 21,
   "metadata": {},
   "outputs": [
    {
     "data": {
      "text/html": [
       "<div>\n",
       "<style scoped>\n",
       "    .dataframe tbody tr th:only-of-type {\n",
       "        vertical-align: middle;\n",
       "    }\n",
       "\n",
       "    .dataframe tbody tr th {\n",
       "        vertical-align: top;\n",
       "    }\n",
       "\n",
       "    .dataframe thead th {\n",
       "        text-align: right;\n",
       "    }\n",
       "</style>\n",
       "<table border=\"1\" class=\"dataframe\">\n",
       "  <thead>\n",
       "    <tr style=\"text-align: right;\">\n",
       "      <th></th>\n",
       "      <th>Learner</th>\n",
       "      <th>Avg</th>\n",
       "      <th>code</th>\n",
       "    </tr>\n",
       "  </thead>\n",
       "  <tbody>\n",
       "    <tr>\n",
       "      <td>0</td>\n",
       "      <td>BAPELA, Joy</td>\n",
       "      <td>53</td>\n",
       "      <td>P</td>\n",
       "    </tr>\n",
       "    <tr>\n",
       "      <td>1</td>\n",
       "      <td>BOKABA, Gaboitsiwe Anna</td>\n",
       "      <td>48</td>\n",
       "      <td>NP</td>\n",
       "    </tr>\n",
       "    <tr>\n",
       "      <td>2</td>\n",
       "      <td>BOKABA, Kelebogile Monale</td>\n",
       "      <td>55</td>\n",
       "      <td>P</td>\n",
       "    </tr>\n",
       "    <tr>\n",
       "      <td>3</td>\n",
       "      <td>BOPAPE, Johannah Lebogang</td>\n",
       "      <td>58</td>\n",
       "      <td>P</td>\n",
       "    </tr>\n",
       "    <tr>\n",
       "      <td>4</td>\n",
       "      <td>KABINI, Boipelo Angel</td>\n",
       "      <td>54</td>\n",
       "      <td>P</td>\n",
       "    </tr>\n",
       "    <tr>\n",
       "      <td>...</td>\n",
       "      <td>...</td>\n",
       "      <td>...</td>\n",
       "      <td>...</td>\n",
       "    </tr>\n",
       "    <tr>\n",
       "      <td>59</td>\n",
       "      <td>SESHABELA, Mongezi Daisy</td>\n",
       "      <td>54</td>\n",
       "      <td>P</td>\n",
       "    </tr>\n",
       "    <tr>\n",
       "      <td>60</td>\n",
       "      <td>SIKAULELA, Lethabo Masechaba</td>\n",
       "      <td>58</td>\n",
       "      <td>P</td>\n",
       "    </tr>\n",
       "    <tr>\n",
       "      <td>61</td>\n",
       "      <td>TOOKA, Kopano Kgolodi</td>\n",
       "      <td>59</td>\n",
       "      <td>P</td>\n",
       "    </tr>\n",
       "    <tr>\n",
       "      <td>62</td>\n",
       "      <td>TSATSI, Kelebogile Selina</td>\n",
       "      <td>67</td>\n",
       "      <td>P</td>\n",
       "    </tr>\n",
       "    <tr>\n",
       "      <td>63</td>\n",
       "      <td>TSHABALALA, Thero Prudence</td>\n",
       "      <td>53</td>\n",
       "      <td>P</td>\n",
       "    </tr>\n",
       "  </tbody>\n",
       "</table>\n",
       "<p>64 rows × 3 columns</p>\n",
       "</div>"
      ],
      "text/plain": [
       "                         Learner  Avg code\n",
       "0                   BAPELA, Joy    53    P\n",
       "1        BOKABA, Gaboitsiwe Anna   48   NP\n",
       "2      BOKABA, Kelebogile Monale   55    P\n",
       "3      BOPAPE, Johannah Lebogang   58    P\n",
       "4          KABINI, Boipelo Angel   54    P\n",
       "..                           ...  ...  ...\n",
       "59      SESHABELA, Mongezi Daisy   54    P\n",
       "60  SIKAULELA, Lethabo Masechaba   58    P\n",
       "61         TOOKA, Kopano Kgolodi   59    P\n",
       "62     TSATSI, Kelebogile Selina   67    P\n",
       "63    TSHABALALA, Thero Prudence   53    P\n",
       "\n",
       "[64 rows x 3 columns]"
      ]
     },
     "execution_count": 21,
     "metadata": {},
     "output_type": "execute_result"
    }
   ],
   "source": [
    "g8 = grade8[[\"Learner\", \"Avg\", \"code\"]]\n",
    "g8"
   ]
  },
  {
   "cell_type": "markdown",
   "metadata": {},
   "source": [
    "# Pass and fail"
   ]
  },
  {
   "cell_type": "code",
   "execution_count": 22,
   "metadata": {},
   "outputs": [
    {
     "name": "stdout",
     "output_type": "stream",
     "text": [
      "Passed:  55\n",
      "Failed : 9\n"
     ]
    }
   ],
   "source": [
    "# counting learners who passed and who failed\n",
    "\n",
    "passed = 0\n",
    "failed = 0\n",
    "\n",
    "for i in g8.code:\n",
    "    if i == \"P\":\n",
    "        passed += 1\n",
    "    else:\n",
    "        failed +=1\n",
    "        \n",
    "print(\"Passed: \", passed)\n",
    "print(\"Failed :\", failed)"
   ]
  },
  {
   "cell_type": "markdown",
   "metadata": {},
   "source": [
    "listing learners who failed"
   ]
  },
  {
   "cell_type": "code",
   "execution_count": 23,
   "metadata": {},
   "outputs": [
    {
     "data": {
      "text/html": [
       "<div>\n",
       "<style scoped>\n",
       "    .dataframe tbody tr th:only-of-type {\n",
       "        vertical-align: middle;\n",
       "    }\n",
       "\n",
       "    .dataframe tbody tr th {\n",
       "        vertical-align: top;\n",
       "    }\n",
       "\n",
       "    .dataframe thead th {\n",
       "        text-align: right;\n",
       "    }\n",
       "</style>\n",
       "<table border=\"1\" class=\"dataframe\">\n",
       "  <thead>\n",
       "    <tr style=\"text-align: right;\">\n",
       "      <th></th>\n",
       "      <th>Learner</th>\n",
       "      <th>Avg</th>\n",
       "      <th>code</th>\n",
       "    </tr>\n",
       "  </thead>\n",
       "  <tbody>\n",
       "    <tr>\n",
       "      <td>1</td>\n",
       "      <td>BOKABA, Gaboitsiwe Anna</td>\n",
       "      <td>48</td>\n",
       "      <td>NP</td>\n",
       "    </tr>\n",
       "    <tr>\n",
       "      <td>5</td>\n",
       "      <td>KGAFELA, Khutso Thiflos</td>\n",
       "      <td>43</td>\n",
       "      <td>NP</td>\n",
       "    </tr>\n",
       "    <tr>\n",
       "      <td>12</td>\n",
       "      <td>LANGA, Piet Bokamoso</td>\n",
       "      <td>42</td>\n",
       "      <td>NP</td>\n",
       "    </tr>\n",
       "    <tr>\n",
       "      <td>22</td>\n",
       "      <td>MALETE, Sylvester Abby</td>\n",
       "      <td>45</td>\n",
       "      <td>NP</td>\n",
       "    </tr>\n",
       "    <tr>\n",
       "      <td>26</td>\n",
       "      <td>MANAMELA, Thato Simon</td>\n",
       "      <td>43</td>\n",
       "      <td>NP</td>\n",
       "    </tr>\n",
       "    <tr>\n",
       "      <td>41</td>\n",
       "      <td>MONCHWE, Bophelo</td>\n",
       "      <td>42</td>\n",
       "      <td>NP</td>\n",
       "    </tr>\n",
       "    <tr>\n",
       "      <td>42</td>\n",
       "      <td>MORIFI, Tshiamo Christian</td>\n",
       "      <td>41</td>\n",
       "      <td>NP</td>\n",
       "    </tr>\n",
       "    <tr>\n",
       "      <td>54</td>\n",
       "      <td>RAPATSA, Neo</td>\n",
       "      <td>36</td>\n",
       "      <td>NP</td>\n",
       "    </tr>\n",
       "    <tr>\n",
       "      <td>57</td>\n",
       "      <td>SEROMO, Moseki Omphile</td>\n",
       "      <td>46</td>\n",
       "      <td>NP</td>\n",
       "    </tr>\n",
       "  </tbody>\n",
       "</table>\n",
       "</div>"
      ],
      "text/plain": [
       "                      Learner  Avg code\n",
       "1     BOKABA, Gaboitsiwe Anna   48   NP\n",
       "5     KGAFELA, Khutso Thiflos   43   NP\n",
       "12       LANGA, Piet Bokamoso   42   NP\n",
       "22     MALETE, Sylvester Abby   45   NP\n",
       "26      MANAMELA, Thato Simon   43   NP\n",
       "41          MONCHWE, Bophelo    42   NP\n",
       "42  MORIFI, Tshiamo Christian   41   NP\n",
       "54              RAPATSA, Neo    36   NP\n",
       "57     SEROMO, Moseki Omphile   46   NP"
      ]
     },
     "execution_count": 23,
     "metadata": {},
     "output_type": "execute_result"
    }
   ],
   "source": [
    "g8fail = g8[g8.code == \"NP\"]\n",
    "g8fail"
   ]
  },
  {
   "cell_type": "markdown",
   "metadata": {},
   "source": [
    "# Failed Maths, Setswana and/or English"
   ]
  },
  {
   "cell_type": "code",
   "execution_count": 24,
   "metadata": {
    "scrolled": true
   },
   "outputs": [
    {
     "name": "stdout",
     "output_type": "stream",
     "text": [
      "______________________________________________________\n",
      "Failed mathematics\n",
      "______________________________________________________\n",
      "                    Learner  Mathematics\\n(Gr 08)\n",
      "1   BOKABA, Gaboitsiwe Anna                    28\n",
      "22   MALETE, Sylvester Abby                    24\n",
      "41        MONCHWE, Bophelo                     26\n",
      "______________________________________________________\n",
      "\n",
      " Failed Setswana\n",
      "______________________________________________________\n",
      "                      Learner   Home Language\n",
      "5     KGAFELA, Khutso Thiflos              39\n",
      "12       LANGA, Piet Bokamoso              37\n",
      "26      MANAMELA, Thato Simon              38\n",
      "41          MONCHWE, Bophelo               43\n",
      "42  MORIFI, Tshiamo Christian              40\n",
      "54              RAPATSA, Neo               46\n",
      "57     SEROMO, Moseki Omphile              48\n",
      "______________________________________________________\n",
      "\n",
      " Failed English FAL\n",
      "______________________________________________________\n",
      "          Learner   First Additional Language\n",
      "54  RAPATSA, Neo                           28\n",
      "______________________________________________________\n"
     ]
    }
   ],
   "source": [
    "# failed mathematics\n",
    "\n",
    "maths = grade8[grade8[\"Mathematics\\n(Gr 08)\"] < 40 ]\n",
    "\n",
    "mat = maths[[\"Learner\", \"Mathematics\\n(Gr 08)\"]]\n",
    "\n",
    "\n",
    "# failed setswana\n",
    "\n",
    "setswana = grade8[grade8[' Home Language'] < 50 ]\n",
    "\n",
    "sets = setswana[[\"Learner\", \" Home Language\"]]\n",
    "\n",
    "\n",
    "# failed English\n",
    "\n",
    "english = grade8[grade8[' First Additional Language'] < 40 ]\n",
    "\n",
    "eng = english[[\"Learner\", \" First Additional Language\"]]\n",
    "\n",
    "\n",
    "print(\"______________________________________________________\")\n",
    "print(\"Failed mathematics\")\n",
    "print(\"______________________________________________________\")\n",
    "print(mat)\n",
    "\n",
    "print(\"______________________________________________________\")\n",
    "print(\"\\n Failed Setswana\")\n",
    "print(\"______________________________________________________\")\n",
    "print(sets)\n",
    "\n",
    "print(\"______________________________________________________\")\n",
    "print(\"\\n Failed English FAL\")\n",
    "print(\"______________________________________________________\")\n",
    "print(eng)\n",
    "print(\"______________________________________________________\")\n",
    "\n"
   ]
  },
  {
   "cell_type": "code",
   "execution_count": 25,
   "metadata": {},
   "outputs": [],
   "source": [
    "# add 5% to setswana\n",
    "\n",
    "# sets = sets[\" Home Language\"] + 5\n",
    "# sets"
   ]
  },
  {
   "cell_type": "markdown",
   "metadata": {},
   "source": [
    "# working with subjects"
   ]
  },
  {
   "cell_type": "code",
   "execution_count": 26,
   "metadata": {},
   "outputs": [],
   "source": [
    "subjects =[' Home Language',' First Additional Language', 'Creative Arts\\n(Gr 08)', 'Economic Management Sciences\\n(Gr 08)', 'Life Orientation\\n(Gr 08)', 'Mathematics\\n(Gr 08)','Natural Sciences\\n(Gr 08)',  'Social Sciences\\n(Gr 08)', 'Technology\\n(Gr 08)' ]"
   ]
  },
  {
   "cell_type": "code",
   "execution_count": 27,
   "metadata": {},
   "outputs": [],
   "source": [
    "# abbreviated subjects\n",
    "\n",
    "abv_sub = ['HL', 'FAL', 'CA', 'EMS', 'LO', 'MAT','NS', 'SS', 'TECH']"
   ]
  },
  {
   "cell_type": "code",
   "execution_count": 28,
   "metadata": {},
   "outputs": [],
   "source": [
    "avg = []\n",
    "for i in subjects:\n",
    "    i = grade8[i].mean()\n",
    "    avg.append(i)"
   ]
  },
  {
   "cell_type": "code",
   "execution_count": 29,
   "metadata": {},
   "outputs": [],
   "source": [
    "avg = []\n",
    "for i in subjects:\n",
    "    i = grade8[i].mean()\n",
    "    avg.append(i)"
   ]
  },
  {
   "cell_type": "code",
   "execution_count": 30,
   "metadata": {},
   "outputs": [
    {
     "data": {
      "text/plain": [
       "Text(0.5,1,'Learner performance in different Subjects')"
      ]
     },
     "execution_count": 30,
     "metadata": {},
     "output_type": "execute_result"
    },
    {
     "data": {
      "image/png": "[encoded data removed]",
      "text/plain": [
       "<Figure size 1152x576 with 1 Axes>"
      ]
     },
     "metadata": {
      "needs_background": "light"
     },
     "output_type": "display_data"
    }
   ],
   "source": [
    "fig = plt.figure(figsize=(16, 8))\n",
    "\n",
    "plt.bar(abv_sub, avg, color = \"brown\")\n",
    "plt.xlabel(\"Subjects\")\n",
    "plt.ylabel(\"Average\")\n",
    "plt.title(\"Learner performance in different Subjects\")"
   ]
  },
  {
   "cell_type": "markdown",
   "metadata": {},
   "source": [
    "# Awards"
   ]
  },
  {
   "cell_type": "markdown",
   "metadata": {},
   "source": [
    "Top 10"
   ]
  },
  {
   "cell_type": "code",
   "execution_count": 31,
   "metadata": {},
   "outputs": [
    {
     "data": {
      "text/html": [
       "<div>\n",
       "<style scoped>\n",
       "    .dataframe tbody tr th:only-of-type {\n",
       "        vertical-align: middle;\n",
       "    }\n",
       "\n",
       "    .dataframe tbody tr th {\n",
       "        vertical-align: top;\n",
       "    }\n",
       "\n",
       "    .dataframe thead th {\n",
       "        text-align: right;\n",
       "    }\n",
       "</style>\n",
       "<table border=\"1\" class=\"dataframe\">\n",
       "  <thead>\n",
       "    <tr style=\"text-align: right;\">\n",
       "      <th></th>\n",
       "      <th>Learner</th>\n",
       "      <th>Avg</th>\n",
       "      <th>code</th>\n",
       "    </tr>\n",
       "  </thead>\n",
       "  <tbody>\n",
       "    <tr>\n",
       "      <td>52</td>\n",
       "      <td>RAMASODI, Keletso</td>\n",
       "      <td>78</td>\n",
       "      <td>P</td>\n",
       "    </tr>\n",
       "    <tr>\n",
       "      <td>38</td>\n",
       "      <td>MOEKETSI, Rorisang Florence</td>\n",
       "      <td>78</td>\n",
       "      <td>P</td>\n",
       "    </tr>\n",
       "    <tr>\n",
       "      <td>30</td>\n",
       "      <td>MASETLHA, Mmanthatise</td>\n",
       "      <td>76</td>\n",
       "      <td>P</td>\n",
       "    </tr>\n",
       "    <tr>\n",
       "      <td>31</td>\n",
       "      <td>MASHIGO, Rofhiwa Prudence</td>\n",
       "      <td>71</td>\n",
       "      <td>P</td>\n",
       "    </tr>\n",
       "    <tr>\n",
       "      <td>28</td>\n",
       "      <td>MARIRI, Phuti</td>\n",
       "      <td>69</td>\n",
       "      <td>P</td>\n",
       "    </tr>\n",
       "    <tr>\n",
       "      <td>24</td>\n",
       "      <td>MALOKA, Oratile Brinda</td>\n",
       "      <td>69</td>\n",
       "      <td>P</td>\n",
       "    </tr>\n",
       "    <tr>\n",
       "      <td>23</td>\n",
       "      <td>MALOKA, Omphile Peggy</td>\n",
       "      <td>69</td>\n",
       "      <td>P</td>\n",
       "    </tr>\n",
       "    <tr>\n",
       "      <td>47</td>\n",
       "      <td>MOYO, Mmaphefo</td>\n",
       "      <td>68</td>\n",
       "      <td>P</td>\n",
       "    </tr>\n",
       "    <tr>\n",
       "      <td>62</td>\n",
       "      <td>TSATSI, Kelebogile Selina</td>\n",
       "      <td>67</td>\n",
       "      <td>P</td>\n",
       "    </tr>\n",
       "    <tr>\n",
       "      <td>21</td>\n",
       "      <td>MALETE, Omphile Mitchell</td>\n",
       "      <td>67</td>\n",
       "      <td>P</td>\n",
       "    </tr>\n",
       "  </tbody>\n",
       "</table>\n",
       "</div>"
      ],
      "text/plain": [
       "                        Learner  Avg code\n",
       "52           RAMASODI, Keletso    78    P\n",
       "38  MOEKETSI, Rorisang Florence   78    P\n",
       "30       MASETLHA, Mmanthatise    76    P\n",
       "31    MASHIGO, Rofhiwa Prudence   71    P\n",
       "28               MARIRI, Phuti    69    P\n",
       "24       MALOKA, Oratile Brinda   69    P\n",
       "23        MALOKA, Omphile Peggy   69    P\n",
       "47              MOYO, Mmaphefo    68    P\n",
       "62    TSATSI, Kelebogile Selina   67    P\n",
       "21     MALETE, Omphile Mitchell   67    P"
      ]
     },
     "execution_count": 31,
     "metadata": {},
     "output_type": "execute_result"
    }
   ],
   "source": [
    "top_10 = g8.sort_values(by=(\"Avg\"), ascending=False)\n",
    "top_10.head(10)"
   ]
  },
  {
   "cell_type": "markdown",
   "metadata": {},
   "source": [
    "best per subject"
   ]
  },
  {
   "cell_type": "code",
   "execution_count": 32,
   "metadata": {},
   "outputs": [
    {
     "name": "stdout",
     "output_type": "stream",
     "text": [
      "                      Learner   Home Language\n",
      "62  TSATSI, Kelebogile Selina              82\n",
      "------------------------------------------------------------------\n",
      "\n",
      "               Learner   First Additional Language\n",
      "52  RAMASODI, Keletso                           79\n",
      "------------------------------------------------------------------\n",
      "\n",
      "                        Learner  Creative Arts\\n(Gr 08)\n",
      "38  MOEKETSI, Rorisang Florence                      78\n",
      "------------------------------------------------------------------\n",
      "\n",
      "                        Learner  Economic Management Sciences\\n(Gr 08)\n",
      "38  MOEKETSI, Rorisang Florence                                     82\n",
      "------------------------------------------------------------------\n",
      "\n",
      "               Learner  Life Orientation\\n(Gr 08)\n",
      "52  RAMASODI, Keletso                          83\n",
      "------------------------------------------------------------------\n",
      "\n",
      "                        Learner  Mathematics\\n(Gr 08)\n",
      "38  MOEKETSI, Rorisang Florence                    76\n",
      "------------------------------------------------------------------\n",
      "\n",
      "               Learner  Natural Sciences\\n(Gr 08)\n",
      "52  RAMASODI, Keletso                          91\n",
      "------------------------------------------------------------------\n",
      "\n",
      "               Learner  Social Sciences\\n(Gr 08)\n",
      "52  RAMASODI, Keletso                         72\n",
      "------------------------------------------------------------------\n",
      "\n",
      "               Learner  Technology\\n(Gr 08)\n",
      "52  RAMASODI, Keletso                    87\n",
      "------------------------------------------------------------------\n",
      "\n"
     ]
    }
   ],
   "source": [
    "cols = grade8.columns\n",
    "\n",
    "sub = 6\n",
    "\n",
    "for col in cols:\n",
    "    if sub < 15:\n",
    "        sub = sub + 1\n",
    "        subject = cols[sub]\n",
    "        \n",
    "        top = grade8[['Learner', subject]]\n",
    "        best = top.sort_values(by=(subject), ascending=False)\n",
    "        print(best.head(1))\n",
    "        print(\"------------------------------------------------------------------\")\n",
    "        print()"
   ]
  },
  {
   "cell_type": "markdown",
   "metadata": {},
   "source": [
    "# Grade 9 Analysis"
   ]
  },
  {
   "cell_type": "code",
   "execution_count": 33,
   "metadata": {},
   "outputs": [
    {
     "data": {
      "text/html": [
       "<div>\n",
       "<style scoped>\n",
       "    .dataframe tbody tr th:only-of-type {\n",
       "        vertical-align: middle;\n",
       "    }\n",
       "\n",
       "    .dataframe tbody tr th {\n",
       "        vertical-align: top;\n",
       "    }\n",
       "\n",
       "    .dataframe thead th {\n",
       "        text-align: right;\n",
       "    }\n",
       "</style>\n",
       "<table border=\"1\" class=\"dataframe\">\n",
       "  <thead>\n",
       "    <tr style=\"text-align: right;\">\n",
       "      <th></th>\n",
       "      <th>Learner</th>\n",
       "      <th>Avg</th>\n",
       "      <th>code</th>\n",
       "    </tr>\n",
       "  </thead>\n",
       "  <tbody>\n",
       "    <tr>\n",
       "      <td>0</td>\n",
       "      <td>APHANE, Ricky Tebogo</td>\n",
       "      <td>49</td>\n",
       "      <td>P</td>\n",
       "    </tr>\n",
       "    <tr>\n",
       "      <td>1</td>\n",
       "      <td>BOPAPE, Khomotso</td>\n",
       "      <td>36</td>\n",
       "      <td>NP</td>\n",
       "    </tr>\n",
       "    <tr>\n",
       "      <td>2</td>\n",
       "      <td>KEKANA, Thapelo Jack</td>\n",
       "      <td>49</td>\n",
       "      <td>P</td>\n",
       "    </tr>\n",
       "    <tr>\n",
       "      <td>3</td>\n",
       "      <td>KGAFELA, Dimpho Joel</td>\n",
       "      <td>46</td>\n",
       "      <td>P</td>\n",
       "    </tr>\n",
       "    <tr>\n",
       "      <td>4</td>\n",
       "      <td>KUTUMELA, Itumeleng William</td>\n",
       "      <td>51</td>\n",
       "      <td>P</td>\n",
       "    </tr>\n",
       "  </tbody>\n",
       "</table>\n",
       "</div>"
      ],
      "text/plain": [
       "                       Learner  Avg code\n",
       "0         APHANE, Ricky Tebogo   49    P\n",
       "1            BOPAPE, Khomotso    36   NP\n",
       "2         KEKANA, Thapelo Jack   49    P\n",
       "3         KGAFELA, Dimpho Joel   46    P\n",
       "4  KUTUMELA, Itumeleng William   51    P"
      ]
     },
     "execution_count": 33,
     "metadata": {},
     "output_type": "execute_result"
    }
   ],
   "source": [
    "g9 = grade9[[\"Learner\", \"Avg\", \"code\"]]\n",
    "g9.head()"
   ]
  },
  {
   "cell_type": "markdown",
   "metadata": {},
   "source": [
    "# number passed and failed"
   ]
  },
  {
   "cell_type": "code",
   "execution_count": 34,
   "metadata": {},
   "outputs": [
    {
     "name": "stdout",
     "output_type": "stream",
     "text": [
      "Passed:  41\n",
      "Failed : 5\n"
     ]
    }
   ],
   "source": [
    "# counting learners who passed and who failed\n",
    "\n",
    "passed = 0\n",
    "failed = 0\n",
    "\n",
    "for i in g9.code:\n",
    "    if i == \"P\":\n",
    "        passed += 1\n",
    "    else:\n",
    "        failed +=1\n",
    "        \n",
    "print(\"Passed: \", passed)\n",
    "print(\"Failed :\", failed)"
   ]
  },
  {
   "cell_type": "markdown",
   "metadata": {},
   "source": [
    "Learners who failed"
   ]
  },
  {
   "cell_type": "code",
   "execution_count": 35,
   "metadata": {},
   "outputs": [
    {
     "data": {
      "text/html": [
       "<div>\n",
       "<style scoped>\n",
       "    .dataframe tbody tr th:only-of-type {\n",
       "        vertical-align: middle;\n",
       "    }\n",
       "\n",
       "    .dataframe tbody tr th {\n",
       "        vertical-align: top;\n",
       "    }\n",
       "\n",
       "    .dataframe thead th {\n",
       "        text-align: right;\n",
       "    }\n",
       "</style>\n",
       "<table border=\"1\" class=\"dataframe\">\n",
       "  <thead>\n",
       "    <tr style=\"text-align: right;\">\n",
       "      <th></th>\n",
       "      <th>Learner</th>\n",
       "      <th>Avg</th>\n",
       "      <th>code</th>\n",
       "    </tr>\n",
       "  </thead>\n",
       "  <tbody>\n",
       "    <tr>\n",
       "      <td>1</td>\n",
       "      <td>BOPAPE, Khomotso</td>\n",
       "      <td>36</td>\n",
       "      <td>NP</td>\n",
       "    </tr>\n",
       "    <tr>\n",
       "      <td>12</td>\n",
       "      <td>MABALA, Ishmael Mujey</td>\n",
       "      <td>20</td>\n",
       "      <td>NP</td>\n",
       "    </tr>\n",
       "    <tr>\n",
       "      <td>19</td>\n",
       "      <td>MASETLHA, Mogotsi</td>\n",
       "      <td>39</td>\n",
       "      <td>NP</td>\n",
       "    </tr>\n",
       "    <tr>\n",
       "      <td>30</td>\n",
       "      <td>MOKHOLO, Pontsho</td>\n",
       "      <td>40</td>\n",
       "      <td>NP</td>\n",
       "    </tr>\n",
       "    <tr>\n",
       "      <td>33</td>\n",
       "      <td>MOTLHABANE, Lebogang Simon</td>\n",
       "      <td>36</td>\n",
       "      <td>NP</td>\n",
       "    </tr>\n",
       "  </tbody>\n",
       "</table>\n",
       "</div>"
      ],
      "text/plain": [
       "                       Learner  Avg code\n",
       "1            BOPAPE, Khomotso    36   NP\n",
       "12       MABALA, Ishmael Mujey   20   NP\n",
       "19          MASETLHA, Mogotsi    39   NP\n",
       "30           MOKHOLO, Pontsho    40   NP\n",
       "33  MOTLHABANE, Lebogang Simon   36   NP"
      ]
     },
     "execution_count": 35,
     "metadata": {},
     "output_type": "execute_result"
    }
   ],
   "source": [
    "g9fail = g9[g9.code == \"NP\"]\n",
    "g9fail"
   ]
  },
  {
   "cell_type": "markdown",
   "metadata": {},
   "source": [
    "# Failed Maths, Setswana and/or English"
   ]
  },
  {
   "cell_type": "code",
   "execution_count": 36,
   "metadata": {
    "scrolled": true
   },
   "outputs": [
    {
     "name": "stdout",
     "output_type": "stream",
     "text": [
      "____________________________________________________________\n",
      "Failed mathematics\n",
      "------------------------------------------------------------\n",
      "                       Learner  Mathematics\\n(Gr 09)\n",
      "1            BOPAPE, Khomotso                     29\n",
      "12       MABALA, Ishmael Mujey                    26\n",
      "33  MOTLHABANE, Lebogang Simon                    28\n",
      "____________________________________________________________\n",
      "\n",
      " Failed Setswana\n",
      "------------------------------------------------------------\n",
      "                       Learner   Home Language\n",
      "1            BOPAPE, Khomotso               33\n",
      "12       MABALA, Ishmael Mujey              15\n",
      "19          MASETLHA, Mogotsi               42\n",
      "30           MOKHOLO, Pontsho               47\n",
      "33  MOTLHABANE, Lebogang Simon              35\n",
      "____________________________________________________________\n",
      "\n",
      " Failed English FAL\n",
      "------------------------------------------------------------\n",
      "                       Learner   First Additional Language\n",
      "1            BOPAPE, Khomotso                           24\n",
      "12       MABALA, Ishmael Mujey                          23\n",
      "19          MASETLHA, Mogotsi                           20\n",
      "30           MOKHOLO, Pontsho                           31\n",
      "33  MOTLHABANE, Lebogang Simon                          27\n",
      "____________________________________________________________\n"
     ]
    }
   ],
   "source": [
    "# failed mathematics\n",
    "\n",
    "maths9 = grade9[grade9[\"Mathematics\\n(Gr 09)\"] < 40 ]\n",
    "\n",
    "mat9 = maths9[[\"Learner\", \"Mathematics\\n(Gr 09)\"]]\n",
    "\n",
    "\n",
    "# failed setswana\n",
    "\n",
    "setswana9 = grade9[grade9[' Home Language'] < 50 ]\n",
    "\n",
    "set9 = setswana9[[\"Learner\", \" Home Language\"]]\n",
    "set9\n",
    "\n",
    "# failed English\n",
    "\n",
    "english9 = grade9[grade9[' First Additional Language'] < 40 ]\n",
    "\n",
    "eng9 = english9[[\"Learner\", \" First Additional Language\"]]\n",
    "eng9\n",
    "\n",
    "\n",
    "\n",
    "print(\"____________________________________________________________\")\n",
    "print(\"Failed mathematics\")\n",
    "print(\"------------------------------------------------------------\")\n",
    "print(mat9)\n",
    "\n",
    "print(\"____________________________________________________________\")\n",
    "print(\"\\n Failed Setswana\")\n",
    "print(\"------------------------------------------------------------\")\n",
    "print(set9)\n",
    "\n",
    "print(\"____________________________________________________________\")\n",
    "print(\"\\n Failed English FAL\")\n",
    "print(\"------------------------------------------------------------\")\n",
    "print(eng9)\n",
    "print(\"____________________________________________________________\")\n"
   ]
  },
  {
   "cell_type": "code",
   "execution_count": 37,
   "metadata": {},
   "outputs": [
    {
     "data": {
      "text/plain": [
       "Index(['no', 'admission no', 'Learner', 'year', 'month', 'day', 'gender',\n",
       "       ' Home Language', ' First Additional Language',\n",
       "       'Creative Arts\\n(Gr 09)', 'Economic Management Sciences\\n(Gr 09)',\n",
       "       'Life Orientation\\n(Gr 09)', 'Mathematics\\n(Gr 09)',\n",
       "       'Natural Sciences\\n(Gr 09)', 'Social Sciences\\n(Gr 09)',\n",
       "       'Technology\\n(Gr 09)', 'Avg', 'code'],\n",
       "      dtype='object')"
      ]
     },
     "execution_count": 37,
     "metadata": {},
     "output_type": "execute_result"
    }
   ],
   "source": [
    "# g8fail = g8[g8.code == \"NP\"]\n",
    "# g8fail\n",
    "grade9.columns\n"
   ]
  },
  {
   "cell_type": "markdown",
   "metadata": {},
   "source": [
    "# working with subjects"
   ]
  },
  {
   "cell_type": "code",
   "execution_count": 38,
   "metadata": {},
   "outputs": [],
   "source": [
    "subjects_9 =[' Home Language',' First Additional Language', 'Creative Arts\\n(Gr 09)', 'Economic Management Sciences\\n(Gr 09)', 'Life Orientation\\n(Gr 09)', 'Mathematics\\n(Gr 09)','Natural Sciences\\n(Gr 09)',  'Social Sciences\\n(Gr 09)', 'Technology\\n(Gr 09)' ]"
   ]
  },
  {
   "cell_type": "code",
   "execution_count": 39,
   "metadata": {},
   "outputs": [],
   "source": [
    "avg_9 = []\n",
    "for i in subjects_9:\n",
    "    i = grade9[i].mean()\n",
    "    avg_9.append(i)"
   ]
  },
  {
   "cell_type": "code",
   "execution_count": 40,
   "metadata": {
    "scrolled": true
   },
   "outputs": [
    {
     "data": {
      "text/plain": [
       "Text(0.5,1,'Learner performance in different Subjects')"
      ]
     },
     "execution_count": 40,
     "metadata": {},
     "output_type": "execute_result"
    },
    {
     "data": {
      "image/png": "[encoded data removed]",
      "text/plain": [
       "<Figure size 1152x576 with 1 Axes>"
      ]
     },
     "metadata": {
      "needs_background": "light"
     },
     "output_type": "display_data"
    }
   ],
   "source": [
    "fig = plt.figure(figsize=(16, 8))\n",
    "\n",
    "plt.bar(abv_sub, avg_9)\n",
    "plt.xlabel(\"Subjects\")\n",
    "plt.ylabel(\"Average\")\n",
    "plt.title(\"Learner performance in different Subjects\")"
   ]
  },
  {
   "cell_type": "markdown",
   "metadata": {},
   "source": [
    "# Awards"
   ]
  },
  {
   "cell_type": "markdown",
   "metadata": {},
   "source": [
    "Top 10"
   ]
  },
  {
   "cell_type": "code",
   "execution_count": 41,
   "metadata": {
    "scrolled": true
   },
   "outputs": [
    {
     "data": {
      "text/html": [
       "<div>\n",
       "<style scoped>\n",
       "    .dataframe tbody tr th:only-of-type {\n",
       "        vertical-align: middle;\n",
       "    }\n",
       "\n",
       "    .dataframe tbody tr th {\n",
       "        vertical-align: top;\n",
       "    }\n",
       "\n",
       "    .dataframe thead th {\n",
       "        text-align: right;\n",
       "    }\n",
       "</style>\n",
       "<table border=\"1\" class=\"dataframe\">\n",
       "  <thead>\n",
       "    <tr style=\"text-align: right;\">\n",
       "      <th></th>\n",
       "      <th>Learner</th>\n",
       "      <th>Avg</th>\n",
       "      <th>code</th>\n",
       "    </tr>\n",
       "  </thead>\n",
       "  <tbody>\n",
       "    <tr>\n",
       "      <td>18</td>\n",
       "      <td>MASETLHA, Mahlatsi</td>\n",
       "      <td>82</td>\n",
       "      <td>P</td>\n",
       "    </tr>\n",
       "    <tr>\n",
       "      <td>11</td>\n",
       "      <td>MAAKWANA, Onkutlwile Raisibe</td>\n",
       "      <td>75</td>\n",
       "      <td>P</td>\n",
       "    </tr>\n",
       "    <tr>\n",
       "      <td>45</td>\n",
       "      <td>TOOKA, Keamogetswe</td>\n",
       "      <td>75</td>\n",
       "      <td>P</td>\n",
       "    </tr>\n",
       "    <tr>\n",
       "      <td>44</td>\n",
       "      <td>TOMPA, Kutlwano Asnath</td>\n",
       "      <td>73</td>\n",
       "      <td>P</td>\n",
       "    </tr>\n",
       "    <tr>\n",
       "      <td>16</td>\n",
       "      <td>MAPONYA, Kamogetswe</td>\n",
       "      <td>69</td>\n",
       "      <td>P</td>\n",
       "    </tr>\n",
       "    <tr>\n",
       "      <td>41</td>\n",
       "      <td>SEKWAKWENG, Ororiseng Thato</td>\n",
       "      <td>67</td>\n",
       "      <td>P</td>\n",
       "    </tr>\n",
       "    <tr>\n",
       "      <td>38</td>\n",
       "      <td>NTLOANA, Reotshepile Mamasole</td>\n",
       "      <td>67</td>\n",
       "      <td>P</td>\n",
       "    </tr>\n",
       "    <tr>\n",
       "      <td>27</td>\n",
       "      <td>MKHARI, Lesego Glenrose</td>\n",
       "      <td>66</td>\n",
       "      <td>P</td>\n",
       "    </tr>\n",
       "    <tr>\n",
       "      <td>6</td>\n",
       "      <td>LEFOKA, Kgothatso Soul</td>\n",
       "      <td>65</td>\n",
       "      <td>P</td>\n",
       "    </tr>\n",
       "    <tr>\n",
       "      <td>26</td>\n",
       "      <td>MATSEPA, Boikanyo Cyprean</td>\n",
       "      <td>65</td>\n",
       "      <td>P</td>\n",
       "    </tr>\n",
       "  </tbody>\n",
       "</table>\n",
       "</div>"
      ],
      "text/plain": [
       "                          Learner  Avg code\n",
       "18            MASETLHA, Mahlatsi    82    P\n",
       "11   MAAKWANA, Onkutlwile Raisibe   75    P\n",
       "45            TOOKA, Keamogetswe    75    P\n",
       "44         TOMPA, Kutlwano Asnath   73    P\n",
       "16           MAPONYA, Kamogetswe    69    P\n",
       "41    SEKWAKWENG, Ororiseng Thato   67    P\n",
       "38  NTLOANA, Reotshepile Mamasole   67    P\n",
       "27        MKHARI, Lesego Glenrose   66    P\n",
       "6          LEFOKA, Kgothatso Soul   65    P\n",
       "26      MATSEPA, Boikanyo Cyprean   65    P"
      ]
     },
     "execution_count": 41,
     "metadata": {},
     "output_type": "execute_result"
    }
   ],
   "source": [
    "top_10_9 = g9.sort_values(by=(\"Avg\"), ascending=False)\n",
    "top_10_9.head(10)"
   ]
  },
  {
   "cell_type": "markdown",
   "metadata": {},
   "source": [
    "best per subject"
   ]
  },
  {
   "cell_type": "code",
   "execution_count": 42,
   "metadata": {},
   "outputs": [
    {
     "name": "stdout",
     "output_type": "stream",
     "text": [
      "                Learner   Home Language\n",
      "18  MASETLHA, Mahlatsi               91\n",
      "------------------------------------------------------------------\n",
      "\n",
      "                Learner   First Additional Language\n",
      "18  MASETLHA, Mahlatsi                           76\n",
      "------------------------------------------------------------------\n",
      "\n",
      "                   Learner  Creative Arts\\n(Gr 09)\n",
      "44  TOMPA, Kutlwano Asnath                      79\n",
      "------------------------------------------------------------------\n",
      "\n",
      "                Learner  Economic Management Sciences\\n(Gr 09)\n",
      "18  MASETLHA, Mahlatsi                                      87\n",
      "------------------------------------------------------------------\n",
      "\n",
      "                Learner  Life Orientation\\n(Gr 09)\n",
      "18  MASETLHA, Mahlatsi                          81\n",
      "------------------------------------------------------------------\n",
      "\n",
      "                Learner  Mathematics\\n(Gr 09)\n",
      "18  MASETLHA, Mahlatsi                     80\n",
      "------------------------------------------------------------------\n",
      "\n",
      "                Learner  Natural Sciences\\n(Gr 09)\n",
      "45  TOOKA, Keamogetswe                          85\n",
      "------------------------------------------------------------------\n",
      "\n",
      "                Learner  Social Sciences\\n(Gr 09)\n",
      "18  MASETLHA, Mahlatsi                         75\n",
      "------------------------------------------------------------------\n",
      "\n",
      "                Learner  Technology\\n(Gr 09)\n",
      "18  MASETLHA, Mahlatsi                    89\n",
      "------------------------------------------------------------------\n",
      "\n"
     ]
    }
   ],
   "source": [
    "cols = grade9.columns\n",
    "\n",
    "sub = 6\n",
    "\n",
    "for col in cols:\n",
    "    if sub < 15:\n",
    "        sub = sub + 1\n",
    "        subject = cols[sub]\n",
    "        \n",
    "        top = grade9[['Learner', subject]]\n",
    "        best = top.sort_values(by=(subject), ascending=False)\n",
    "        print(best.head(1))\n",
    "        print(\"------------------------------------------------------------------\")\n",
    "        print()"
   ]
  }
 ],
 "metadata": {
  "kernelspec": {
   "display_name": "Python 3",
   "language": "python",
   "name": "python3"
  },
  "language_info": {
   "codemirror_mode": {
    "name": "ipython",
    "version": 3
   },
   "file_extension": ".py",
   "mimetype": "text/x-python",
   "name": "python",
   "nbconvert_exporter": "python",
   "pygments_lexer": "ipython3",
   "version": "3.7.4"
  }
 },
 "nbformat": 4,
 "nbformat_minor": 2
}
